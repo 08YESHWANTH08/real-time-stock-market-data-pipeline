{
 "cells": [
  {
   "cell_type": "code",
   "execution_count": null,
   "id": "1a6df075-8d68-45cc-b54d-0e86610b34dc",
   "metadata": {},
   "outputs": [],
   "source": [
    "!pip install s3fs\n",
    "from kafka import KafkaConsumer\n",
    "from time import sleep\n",
    "from json import dumps,loads\n",
    "import json\n",
    "from s3fs import S3FileSystem\n"
   ]
  },
  {
   "cell_type": "code",
   "execution_count": 9,
   "id": "ee862501-4541-4dc5-82f5-f0c9a732059c",
   "metadata": {},
   "outputs": [],
   "source": [
    "consumer = KafkaConsumer(\n",
    "    'demo_testing1',\n",
    "    bootstrap_servers=['13.233.132.94:9092'],\n",
    "    auto_offset_reset='earliest',\n",
    "    enable_auto_commit=True,\n",
    "    group_id='my-local-consumer',  # Use a unique group ID\n",
    "    value_deserializer=lambda x: loads(x.decode('utf-8'))\n",
    ")"
   ]
  },
  {
   "cell_type": "code",
   "execution_count": null,
   "id": "abd31720-fa8f-4eb4-93ad-da1852b462fa",
   "metadata": {},
   "outputs": [
    {
     "name": "stdout",
     "output_type": "stream",
     "text": [
      "Invalid message received: This is kafka server\n",
      "Error: Expecting value: line 1 column 1 (char 0)\n",
      "Received valid JSON: {'message': 'Hello World'}\n",
      "Received valid JSON: {'message': 'Hello World'}\n",
      "Received valid JSON: {'message': 'Hello World'}\n",
      "Received valid JSON: {'message': 'Hello World'}\n",
      "Received valid JSON: {'message': 'Hello World'}\n"
     ]
    }
   ],
   "source": [
    "from kafka import KafkaConsumer\n",
    "from json import loads\n",
    "\n",
    "consumer = KafkaConsumer(\n",
    "    'demo_testing1',\n",
    "    bootstrap_servers=['13.233.132.94:9092'],\n",
    "    auto_offset_reset='earliest',\n",
    "    enable_auto_commit=True,\n",
    "    group_id='my-local-consumer',\n",
    "    value_deserializer=lambda x: x.decode('utf-8')  # defer JSON loading\n",
    ")\n",
    "\n",
    "for message in consumer:\n",
    "    try:\n",
    "        if message.value:\n",
    "            data = loads(message.value)\n",
    "            print(f\"Received valid JSON: {data}\")\n",
    "        else:\n",
    "            print(\"Received empty message.\")\n",
    "    except Exception as e:\n",
    "        print(f\"Invalid message received: {message.value}\")\n",
    "        print(f\"Error: {e}\")\n"
   ]
  },
  {
   "cell_type": "code",
   "execution_count": null,
   "id": "5fe770ff-6de0-4836-a561-4e37535ef732",
   "metadata": {},
   "outputs": [],
   "source": [
    "from kafka import KafkaConsumer\n",
    "from json import loads\n",
    "import json\n",
    "\n",
    "# Create Kafka consumer\n",
    "consumer = KafkaConsumer(\n",
    "    'demo_testing1',\n",
    "    bootstrap_servers=['13.233.132.94:9092'],\n",
    "    auto_offset_reset='earliest',\n",
    "    enable_auto_commit=True,\n",
    "    group_id='my-local-consumer',\n",
    "    value_deserializer=lambda x: x.decode('utf-8')  # Decode bytes to string\n",
    ")\n",
    "\n",
    "print(\"Listening for messages...\")\n",
    "\n",
    "for message in consumer:\n",
    "    raw_value = message.value\n",
    "    try:\n",
    "        json_data = json.loads(raw_value)\n",
    "        print(f\"[JSON] Received: {json_data}\")\n",
    "    except json.JSONDecodeError:\n",
    "        print(f\"[RAW] Received non-JSON message: {raw_value}\")\n"
   ]
  },
  {
   "cell_type": "code",
   "execution_count": null,
   "id": "35e86245-619f-4383-98e6-aa19bac03007",
   "metadata": {},
   "outputs": [],
   "source": [
    "#final code\n",
    "from kafka import KafkaConsumer\n",
    "from json import loads\n",
    "import json\n",
    "\n",
    "# Create Kafka consumer\n",
    "consumer = KafkaConsumer(\n",
    "    'demo_testing1',\n",
    "    bootstrap_servers=['13.233.132.94:9092'],\n",
    "    auto_offset_reset='earliest',\n",
    "    enable_auto_commit=True,\n",
    "    group_id='my-local-consumer',\n",
    "    value_deserializer=lambda x: x.decode('utf-8')  # Decode bytes to string\n",
    ")\n",
    "s3=S3FileSystem()"
   ]
  },
  {
   "cell_type": "code",
   "execution_count": null,
   "id": "55165188-fdf6-473a-9c65-7cc5862d629f",
   "metadata": {},
   "outputs": [],
   "source": [
    "for count,i in enumerate(consumer):\n",
    "    with s3.open('s3://kafka-stock-market-project-yeshwanth/stock_market_{}.json'.format(count),'w') as file:\n",
    "        json.dump(i.value,file)"
   ]
  },
  {
   "cell_type": "code",
   "execution_count": null,
   "id": "115a28ba-fdee-4098-b255-e520feabdb55",
   "metadata": {},
   "outputs": [],
   "source": [
    "from kafka import KafkaConsumer\n",
    "from json import loads\n",
    "import json\n",
    "from s3fs import S3FileSystem\n",
    "\n",
    "# Create Kafka consumer\n",
    "consumer = KafkaConsumer(\n",
    "    'demo_testing1',\n",
    "    bootstrap_servers=['13.233.132.94:9092'],\n",
    "    auto_offset_reset='earliest',\n",
    "    enable_auto_commit=True,\n",
    "    group_id='my-local-consumer',\n",
    "    value_deserializer=lambda x: x.decode('utf-8')  # Decode bytes to string\n",
    ")\n",
    "\n",
    "s3 = S3FileSystem()\n",
    "\n",
    "for count, i in enumerate(consumer):\n",
    "    with s3.open('s3://kafka-stock-market-project-yeshwanth/stock_market_{}.json'.format(count), 'w') as file:\n",
    "        json.dump(json.loads(i.value), file)  \n"
   ]
  },
  {
   "cell_type": "code",
   "execution_count": 3,
   "id": "c2860e81-7a54-4829-86ab-d5ee25cbacf2",
   "metadata": {},
   "outputs": [
    {
     "name": "stdout",
     "output_type": "stream",
     "text": [
      "Requirement already satisfied: boto3 in d:\\python_projects\\data_engineering\\kafka-stock-market-project-key\\jupyter_env\\lib\\site-packages (1.38.11)\n",
      "Requirement already satisfied: botocore<1.39.0,>=1.38.11 in d:\\python_projects\\data_engineering\\kafka-stock-market-project-key\\jupyter_env\\lib\\site-packages (from boto3) (1.38.11)\n",
      "Requirement already satisfied: jmespath<2.0.0,>=0.7.1 in d:\\python_projects\\data_engineering\\kafka-stock-market-project-key\\jupyter_env\\lib\\site-packages (from boto3) (1.0.1)\n",
      "Requirement already satisfied: s3transfer<0.13.0,>=0.12.0 in d:\\python_projects\\data_engineering\\kafka-stock-market-project-key\\jupyter_env\\lib\\site-packages (from boto3) (0.12.0)\n",
      "Requirement already satisfied: python-dateutil<3.0.0,>=2.1 in d:\\python_projects\\data_engineering\\kafka-stock-market-project-key\\jupyter_env\\lib\\site-packages (from botocore<1.39.0,>=1.38.11->boto3) (2.9.0.post0)\n",
      "Requirement already satisfied: urllib3!=2.2.0,<3,>=1.25.4 in d:\\python_projects\\data_engineering\\kafka-stock-market-project-key\\jupyter_env\\lib\\site-packages (from botocore<1.39.0,>=1.38.11->boto3) (2.4.0)\n",
      "Requirement already satisfied: six>=1.5 in d:\\python_projects\\data_engineering\\kafka-stock-market-project-key\\jupyter_env\\lib\\site-packages (from python-dateutil<3.0.0,>=2.1->botocore<1.39.0,>=1.38.11->boto3) (1.17.0)\n",
      "Deleted Successfully\n"
     ]
    }
   ],
   "source": [
    "!pip install boto3\n",
    "import boto3\n",
    "\n",
    "s3 = boto3.resource('s3')\n",
    "bucket_name = 'kafka-stock-market-project-yeshwanth'\n",
    "bucket = s3.Bucket(bucket_name)\n",
    "\n",
    "# Delete all objects in the bucket\n",
    "bucket.objects.all().delete()\n",
    "print(\"Deleted Successfully\")"
   ]
  },
  {
   "cell_type": "code",
   "execution_count": null,
   "id": "a910623c-d547-46c2-8ea3-69bbacaded25",
   "metadata": {},
   "outputs": [],
   "source": []
  }
 ],
 "metadata": {
  "kernelspec": {
   "display_name": "Python 3 (ipykernel)",
   "language": "python",
   "name": "python3"
  },
  "language_info": {
   "codemirror_mode": {
    "name": "ipython",
    "version": 3
   },
   "file_extension": ".py",
   "mimetype": "text/x-python",
   "name": "python",
   "nbconvert_exporter": "python",
   "pygments_lexer": "ipython3",
   "version": "3.11.9"
  }
 },
 "nbformat": 4,
 "nbformat_minor": 5
}
