{
 "cells": [
  {
   "cell_type": "code",
   "execution_count": 1,
   "id": "bbe2b651-d47b-44b4-9ed8-60b67f7e9df7",
   "metadata": {},
   "outputs": [
    {
     "name": "stdout",
     "output_type": "stream",
     "text": [
      "Hello World\n"
     ]
    }
   ],
   "source": [
    "print(\"Hello World\")"
   ]
  },
  {
   "cell_type": "code",
   "execution_count": 2,
   "id": "3811b635-229b-47bf-9f47-16437a326f4d",
   "metadata": {},
   "outputs": [
    {
     "name": "stdout",
     "output_type": "stream",
     "text": [
      "Requirement already satisfied: kafka-python in d:\\python_projects\\data_engineering\\kafka-stock-market-project-key\\jupyter_env\\lib\\site-packages (2.2.4)\n",
      "Requirement already satisfied: pandas in d:\\python_projects\\data_engineering\\kafka-stock-market-project-key\\jupyter_env\\lib\\site-packages (2.2.3)\n",
      "Requirement already satisfied: numpy>=1.23.2 in d:\\python_projects\\data_engineering\\kafka-stock-market-project-key\\jupyter_env\\lib\\site-packages (from pandas) (2.2.5)\n",
      "Requirement already satisfied: python-dateutil>=2.8.2 in d:\\python_projects\\data_engineering\\kafka-stock-market-project-key\\jupyter_env\\lib\\site-packages (from pandas) (2.9.0.post0)\n",
      "Requirement already satisfied: pytz>=2020.1 in d:\\python_projects\\data_engineering\\kafka-stock-market-project-key\\jupyter_env\\lib\\site-packages (from pandas) (2025.2)\n",
      "Requirement already satisfied: tzdata>=2022.7 in d:\\python_projects\\data_engineering\\kafka-stock-market-project-key\\jupyter_env\\lib\\site-packages (from pandas) (2025.2)\n",
      "Requirement already satisfied: six>=1.5 in d:\\python_projects\\data_engineering\\kafka-stock-market-project-key\\jupyter_env\\lib\\site-packages (from python-dateutil>=2.8.2->pandas) (1.17.0)\n"
     ]
    }
   ],
   "source": [
    "!pip install kafka-python\n",
    "!pip install pandas"
   ]
  },
  {
   "cell_type": "code",
   "execution_count": 1,
   "id": "fb53da3d-4dd9-4e2d-95df-e5b844fe3eb6",
   "metadata": {},
   "outputs": [],
   "source": [
    "import pandas as pd\n",
    "from kafka import KafkaConsumer, KafkaProducer\n",
    "from time import sleep\n",
    "from json import dumps\n",
    "import json\n",
    "import time"
   ]
  },
  {
   "cell_type": "code",
   "execution_count": 2,
   "id": "60daca0f-b92d-42d6-8a16-251b58e723a7",
   "metadata": {},
   "outputs": [],
   "source": [
    "producer = KafkaProducer(bootstrap_servers=['13.201.71.173:9092'], #change ip here\n",
    "                         value_serializer=lambda x: \n",
    "                         dumps(x).encode('utf-8'))"
   ]
  },
  {
   "cell_type": "code",
   "execution_count": 3,
   "id": "94994d65-0a1b-4b4b-a5a2-592a40bdcc0a",
   "metadata": {},
   "outputs": [
    {
     "name": "stdout",
     "output_type": "stream",
     "text": [
      "Sent: {'message': 'Hello World'}\n",
      "Sent: {'message': 'Hello World'}\n",
      "Sent: {'message': 'Hello World'}\n",
      "Sent: {'message': 'Hello World'}\n",
      "Sent: {'message': 'Hello World'}\n"
     ]
    }
   ],
   "source": [
    "for i in range(5):\n",
    "    message = {\"message\": \"Hello World\"}\n",
    "    producer.send('demo_testing1', value=message)\n",
    "    print(f\"Sent: {message}\")\n",
    "    time.sleep(1)  # Optional: wait a bit between messages\n",
    "\n",
    "producer.flush()  "
   ]
  },
  {
   "cell_type": "code",
   "execution_count": 4,
   "id": "d7469d57-ddee-4eef-9a87-8919b355500b",
   "metadata": {},
   "outputs": [],
   "source": [
    "df = pd.read_csv(r'D:\\Python_Projects\\DATA_ENGINEERING\\kafka-stock-market-project-key\\indexProcessed.csv')"
   ]
  },
  {
   "cell_type": "code",
   "execution_count": 5,
   "id": "4399c10b-6d4b-4455-9d47-2c47ae358d6a",
   "metadata": {},
   "outputs": [
    {
     "data": {
      "text/html": [
       "<div>\n",
       "<style scoped>\n",
       "    .dataframe tbody tr th:only-of-type {\n",
       "        vertical-align: middle;\n",
       "    }\n",
       "\n",
       "    .dataframe tbody tr th {\n",
       "        vertical-align: top;\n",
       "    }\n",
       "\n",
       "    .dataframe thead th {\n",
       "        text-align: right;\n",
       "    }\n",
       "</style>\n",
       "<table border=\"1\" class=\"dataframe\">\n",
       "  <thead>\n",
       "    <tr style=\"text-align: right;\">\n",
       "      <th></th>\n",
       "      <th>Index</th>\n",
       "      <th>Date</th>\n",
       "      <th>Open</th>\n",
       "      <th>High</th>\n",
       "      <th>Low</th>\n",
       "      <th>Close</th>\n",
       "      <th>Adj Close</th>\n",
       "      <th>Volume</th>\n",
       "      <th>CloseUSD</th>\n",
       "    </tr>\n",
       "  </thead>\n",
       "  <tbody>\n",
       "    <tr>\n",
       "      <th>0</th>\n",
       "      <td>HSI</td>\n",
       "      <td>1986-12-31</td>\n",
       "      <td>2568.300049</td>\n",
       "      <td>2568.300049</td>\n",
       "      <td>2568.300049</td>\n",
       "      <td>2568.300049</td>\n",
       "      <td>2568.300049</td>\n",
       "      <td>0.0</td>\n",
       "      <td>333.879006</td>\n",
       "    </tr>\n",
       "    <tr>\n",
       "      <th>1</th>\n",
       "      <td>HSI</td>\n",
       "      <td>1987-01-02</td>\n",
       "      <td>2540.100098</td>\n",
       "      <td>2540.100098</td>\n",
       "      <td>2540.100098</td>\n",
       "      <td>2540.100098</td>\n",
       "      <td>2540.100098</td>\n",
       "      <td>0.0</td>\n",
       "      <td>330.213013</td>\n",
       "    </tr>\n",
       "    <tr>\n",
       "      <th>2</th>\n",
       "      <td>HSI</td>\n",
       "      <td>1987-01-05</td>\n",
       "      <td>2552.399902</td>\n",
       "      <td>2552.399902</td>\n",
       "      <td>2552.399902</td>\n",
       "      <td>2552.399902</td>\n",
       "      <td>2552.399902</td>\n",
       "      <td>0.0</td>\n",
       "      <td>331.811987</td>\n",
       "    </tr>\n",
       "    <tr>\n",
       "      <th>3</th>\n",
       "      <td>HSI</td>\n",
       "      <td>1987-01-06</td>\n",
       "      <td>2583.899902</td>\n",
       "      <td>2583.899902</td>\n",
       "      <td>2583.899902</td>\n",
       "      <td>2583.899902</td>\n",
       "      <td>2583.899902</td>\n",
       "      <td>0.0</td>\n",
       "      <td>335.906987</td>\n",
       "    </tr>\n",
       "    <tr>\n",
       "      <th>4</th>\n",
       "      <td>HSI</td>\n",
       "      <td>1987-01-07</td>\n",
       "      <td>2607.100098</td>\n",
       "      <td>2607.100098</td>\n",
       "      <td>2607.100098</td>\n",
       "      <td>2607.100098</td>\n",
       "      <td>2607.100098</td>\n",
       "      <td>0.0</td>\n",
       "      <td>338.923013</td>\n",
       "    </tr>\n",
       "  </tbody>\n",
       "</table>\n",
       "</div>"
      ],
      "text/plain": [
       "  Index        Date         Open         High          Low        Close  \\\n",
       "0   HSI  1986-12-31  2568.300049  2568.300049  2568.300049  2568.300049   \n",
       "1   HSI  1987-01-02  2540.100098  2540.100098  2540.100098  2540.100098   \n",
       "2   HSI  1987-01-05  2552.399902  2552.399902  2552.399902  2552.399902   \n",
       "3   HSI  1987-01-06  2583.899902  2583.899902  2583.899902  2583.899902   \n",
       "4   HSI  1987-01-07  2607.100098  2607.100098  2607.100098  2607.100098   \n",
       "\n",
       "     Adj Close  Volume    CloseUSD  \n",
       "0  2568.300049     0.0  333.879006  \n",
       "1  2540.100098     0.0  330.213013  \n",
       "2  2552.399902     0.0  331.811987  \n",
       "3  2583.899902     0.0  335.906987  \n",
       "4  2607.100098     0.0  338.923013  "
      ]
     },
     "execution_count": 5,
     "metadata": {},
     "output_type": "execute_result"
    }
   ],
   "source": [
    "df.head()"
   ]
  },
  {
   "cell_type": "code",
   "execution_count": 6,
   "id": "33ab5cfd-f3b5-4f4c-87f4-3e5e91bd2904",
   "metadata": {},
   "outputs": [
    {
     "ename": "KeyboardInterrupt",
     "evalue": "",
     "output_type": "error",
     "traceback": [
      "\u001b[31m---------------------------------------------------------------------------\u001b[39m",
      "\u001b[31mKeyboardInterrupt\u001b[39m                         Traceback (most recent call last)",
      "\u001b[36mCell\u001b[39m\u001b[36m \u001b[39m\u001b[32mIn[6]\u001b[39m\u001b[32m, line 3\u001b[39m\n\u001b[32m      1\u001b[39m \u001b[38;5;28;01mwhile\u001b[39;00m \u001b[38;5;28;01mTrue\u001b[39;00m:\n\u001b[32m      2\u001b[39m     dict_stock=df.sample(\u001b[32m1\u001b[39m).to_dict(orient=\u001b[33m\"\u001b[39m\u001b[33mrecords\u001b[39m\u001b[33m\"\u001b[39m)[\u001b[32m0\u001b[39m]  \u001b[38;5;66;03m#data frame to dictionary format\u001b[39;00m\n\u001b[32m----> \u001b[39m\u001b[32m3\u001b[39m     \u001b[43mproducer\u001b[49m\u001b[43m.\u001b[49m\u001b[43msend\u001b[49m\u001b[43m(\u001b[49m\u001b[33;43m'\u001b[39;49m\u001b[33;43mdemo_testing1\u001b[39;49m\u001b[33;43m'\u001b[39;49m\u001b[43m,\u001b[49m\u001b[43m \u001b[49m\u001b[43mvalue\u001b[49m\u001b[43m=\u001b[49m\u001b[43mdict_stock\u001b[49m\u001b[43m)\u001b[49m\n",
      "\u001b[36mFile \u001b[39m\u001b[32mD:\\Python_Projects\\DATA_ENGINEERING\\kafka-stock-market-project-key\\jupyter_env\\Lib\\site-packages\\kafka\\producer\\kafka.py:878\u001b[39m, in \u001b[36mKafkaProducer.send\u001b[39m\u001b[34m(self, topic, value, key, headers, partition, timestamp_ms)\u001b[39m\n\u001b[32m    875\u001b[39m \u001b[38;5;28;01mif\u001b[39;00m batch_is_full \u001b[38;5;129;01mor\u001b[39;00m new_batch_created:\n\u001b[32m    876\u001b[39m     log.debug(\u001b[33m\"\u001b[39m\u001b[38;5;132;01m%s\u001b[39;00m\u001b[33m: Waking up the sender since \u001b[39m\u001b[38;5;132;01m%s\u001b[39;00m\u001b[33m is either full or\u001b[39m\u001b[33m\"\u001b[39m\n\u001b[32m    877\u001b[39m               \u001b[33m\"\u001b[39m\u001b[33m getting a new batch\u001b[39m\u001b[33m\"\u001b[39m, \u001b[38;5;28mstr\u001b[39m(\u001b[38;5;28mself\u001b[39m), tp)\n\u001b[32m--> \u001b[39m\u001b[32m878\u001b[39m     \u001b[38;5;28;43mself\u001b[39;49m\u001b[43m.\u001b[49m\u001b[43m_sender\u001b[49m\u001b[43m.\u001b[49m\u001b[43mwakeup\u001b[49m\u001b[43m(\u001b[49m\u001b[43m)\u001b[49m\n\u001b[32m    880\u001b[39m \u001b[38;5;28;01mreturn\u001b[39;00m future\n\u001b[32m    881\u001b[39m \u001b[38;5;66;03m# handling exceptions and record the errors;\u001b[39;00m\n\u001b[32m    882\u001b[39m \u001b[38;5;66;03m# for API exceptions return them in the future,\u001b[39;00m\n\u001b[32m    883\u001b[39m \u001b[38;5;66;03m# for other exceptions raise directly\u001b[39;00m\n",
      "\u001b[36mFile \u001b[39m\u001b[32mD:\\Python_Projects\\DATA_ENGINEERING\\kafka-stock-market-project-key\\jupyter_env\\Lib\\site-packages\\kafka\\producer\\sender.py:586\u001b[39m, in \u001b[36mSender.wakeup\u001b[39m\u001b[34m(self)\u001b[39m\n\u001b[32m    584\u001b[39m \u001b[38;5;28;01mdef\u001b[39;00m\u001b[38;5;250m \u001b[39m\u001b[34mwakeup\u001b[39m(\u001b[38;5;28mself\u001b[39m):\n\u001b[32m    585\u001b[39m \u001b[38;5;250m    \u001b[39m\u001b[33;03m\"\"\"Wake up the selector associated with this send thread.\"\"\"\u001b[39;00m\n\u001b[32m--> \u001b[39m\u001b[32m586\u001b[39m     \u001b[38;5;28;43mself\u001b[39;49m\u001b[43m.\u001b[49m\u001b[43m_client\u001b[49m\u001b[43m.\u001b[49m\u001b[43mwakeup\u001b[49m\u001b[43m(\u001b[49m\u001b[43m)\u001b[49m\n",
      "\u001b[36mFile \u001b[39m\u001b[32mD:\\Python_Projects\\DATA_ENGINEERING\\kafka-stock-market-project-key\\jupyter_env\\Lib\\site-packages\\kafka\\client_async.py:1118\u001b[39m, in \u001b[36mKafkaClient.wakeup\u001b[39m\u001b[34m(self)\u001b[39m\n\u001b[32m   1116\u001b[39m \u001b[38;5;28;01mwith\u001b[39;00m \u001b[38;5;28mself\u001b[39m._wake_lock:\n\u001b[32m   1117\u001b[39m     \u001b[38;5;28;01mtry\u001b[39;00m:\n\u001b[32m-> \u001b[39m\u001b[32m1118\u001b[39m         \u001b[38;5;28;43mself\u001b[39;49m\u001b[43m.\u001b[49m\u001b[43m_wake_w\u001b[49m\u001b[43m.\u001b[49m\u001b[43msendall\u001b[49m\u001b[43m(\u001b[49m\u001b[33;43mb\u001b[39;49m\u001b[33;43m'\u001b[39;49m\u001b[33;43mx\u001b[39;49m\u001b[33;43m'\u001b[39;49m\u001b[43m)\u001b[49m\n\u001b[32m   1119\u001b[39m         \u001b[38;5;28mself\u001b[39m._waking = \u001b[38;5;28;01mTrue\u001b[39;00m\n\u001b[32m   1120\u001b[39m     \u001b[38;5;28;01mexcept\u001b[39;00m socket.timeout \u001b[38;5;28;01mas\u001b[39;00m e:\n",
      "\u001b[31mKeyboardInterrupt\u001b[39m: "
     ]
    }
   ],
   "source": [
    "while True:\n",
    "    dict_stock=df.sample(1).to_dict(orient=\"records\")[0]  #data frame to dictionary format\n",
    "    producer.send('demo_testing1', value=dict_stock)"
   ]
  },
  {
   "cell_type": "code",
   "execution_count": 17,
   "id": "4066d013-f3ef-412c-91b1-7a2d5d09e289",
   "metadata": {},
   "outputs": [
    {
     "name": "stdout",
     "output_type": "stream",
     "text": [
      "Sent: {'Index': 'NYA', 'Date': '1990-04-17', 'Open': 1997.47998, 'High': 1997.47998, 'Low': 1997.47998, 'Close': 1997.47998, 'Adj Close': 1997.47998, 'Volume': 0.0, 'CloseUSD': 1997.47998}\n",
      "Sent: {'Index': 'NYA', 'Date': '1993-01-15', 'Open': 2542.669922, 'High': 2542.669922, 'Low': 2542.669922, 'Close': 2542.669922, 'Adj Close': 2542.669922, 'Volume': 0.0, 'CloseUSD': 2542.669922}\n"
     ]
    },
    {
     "ename": "KeyboardInterrupt",
     "evalue": "",
     "output_type": "error",
     "traceback": [
      "\u001b[31m---------------------------------------------------------------------------\u001b[39m",
      "\u001b[31mKeyboardInterrupt\u001b[39m                         Traceback (most recent call last)",
      "\u001b[36mCell\u001b[39m\u001b[36m \u001b[39m\u001b[32mIn[17]\u001b[39m\u001b[32m, line 26\u001b[39m\n\u001b[32m     23\u001b[39m producer.flush()  \u001b[38;5;66;03m# Ensure the message is sent immediately\u001b[39;00m\n\u001b[32m     25\u001b[39m \u001b[38;5;28mprint\u001b[39m(\u001b[33mf\u001b[39m\u001b[33m\"\u001b[39m\u001b[33mSent: \u001b[39m\u001b[38;5;132;01m{\u001b[39;00mdict_stock\u001b[38;5;132;01m}\u001b[39;00m\u001b[33m\"\u001b[39m)  \u001b[38;5;66;03m# Optional logging\u001b[39;00m\n\u001b[32m---> \u001b[39m\u001b[32m26\u001b[39m \u001b[43msleep\u001b[49m\u001b[43m(\u001b[49m\u001b[32;43m1\u001b[39;49m\u001b[43m)\u001b[49m  \u001b[38;5;66;03m# Add a small delay to simulate real-time data\u001b[39;00m\n",
      "\u001b[31mKeyboardInterrupt\u001b[39m: "
     ]
    }
   ],
   "source": [
    "#final code\n",
    "import pandas as pd\n",
    "from kafka import KafkaProducer\n",
    "from time import sleep\n",
    "from json import dumps\n",
    "import json\n",
    "\n",
    "# Create Kafka producer\n",
    "producer = KafkaProducer(\n",
    "    bootstrap_servers=['13.201.71.173:9092'],  # Replace with your broker IP\n",
    "    value_serializer=lambda x: dumps(x).encode('utf-8')  # Serialize dict to JSON bytes\n",
    ")\n",
    "\n",
    "# Load dataset\n",
    "df = pd.read_csv(r'D:\\Python_Projects\\DATA_ENGINEERING\\kafka-stock-market-project-key\\indexProcessed.csv')\n",
    "\n",
    "# Send data to Kafka topic continuously\n",
    "while True:\n",
    "    # Pick one random row from dataframe\n",
    "    dict_stock = df.sample(1).to_dict(orient=\"records\")[0]\n",
    "    \n",
    "    # Send the row to Kafka topic\n",
    "    producer.send('demo_testing1', value=dict_stock)\n",
    "    producer.flush()  # Ensure the message is sent immediately\n",
    "    \n",
    "    print(f\"Sent: {dict_stock}\")  # Optional logging\n",
    "    sleep(1)  # Add a small delay to simulate real-time data\n"
   ]
  },
  {
   "cell_type": "code",
   "execution_count": 16,
   "id": "e00030dd-d88e-4bf1-914c-14eaaf52599c",
   "metadata": {},
   "outputs": [],
   "source": [
    "producer.flush()"
   ]
  },
  {
   "cell_type": "code",
   "execution_count": null,
   "id": "cdf42949-f390-41e9-8ed1-ba3fe64a97f7",
   "metadata": {},
   "outputs": [],
   "source": []
  }
 ],
 "metadata": {
  "kernelspec": {
   "display_name": "Python 3 (ipykernel)",
   "language": "python",
   "name": "python3"
  },
  "language_info": {
   "codemirror_mode": {
    "name": "ipython",
    "version": 3
   },
   "file_extension": ".py",
   "mimetype": "text/x-python",
   "name": "python",
   "nbconvert_exporter": "python",
   "pygments_lexer": "ipython3",
   "version": "3.11.9"
  }
 },
 "nbformat": 4,
 "nbformat_minor": 5
}
